{
 "cells": [
  {
   "cell_type": "code",
   "execution_count": 17,
   "id": "ffb83879-6c54-4860-9c47-5994f5c5d8ad",
   "metadata": {},
   "outputs": [],
   "source": [
    "import pandas as pd\n",
    "from sklearn.model_selection import train_test_split\n",
    "from imblearn.under_sampling import RandomUnderSampler"
   ]
  },
  {
   "cell_type": "code",
   "execution_count": 3,
   "id": "437e2fa7-95d6-4a8e-9996-34b10b0e87b5",
   "metadata": {},
   "outputs": [],
   "source": [
    "all_data = pd.read_excel(\"De-identified PMAD data.xlsx\")"
   ]
  },
  {
   "cell_type": "code",
   "execution_count": 4,
   "id": "82a489e2-22fc-4b6a-b12d-a9dfe04eedeb",
   "metadata": {},
   "outputs": [],
   "source": [
    "# Extract relevant variables for model fitting\n",
    "outcome = 'PHQ9_risk2'\n",
    "data = all_data[['MOM_AGE','MOM_RACE','ETHNIC_GROUP','MARITAL_STATUS','FINANCIAL_CLASS',\n",
    "                 'LBW','PTB',\n",
    "                 'DELIVERY_METHOD','NICU_ADMIT','MFCU_ADMIT',\n",
    "                 'PREE','GDM','GHTN',\n",
    "                 'MOM_BMI','MOM_LOS','CHILD_LOS',\n",
    "                 'HIST_ANXIETY','HIST_DEPRESS','HIST_BIPOLAR','HIST_PMAD','MENTAL_HEALTH_DX_CUTOFF',\n",
    "                 'MED_PSYCH','MED_CARDIO',\n",
    "                 outcome,'PHQ9_VALUE','PMAD_risk']]"
   ]
  },
  {
   "cell_type": "code",
   "execution_count": 5,
   "id": "ffae96e8-8b57-48dd-b724-08454b93ea21",
   "metadata": {},
   "outputs": [
    {
     "name": "stdout",
     "output_type": "stream",
     "text": [
      "N: (11377, 24)\n"
     ]
    }
   ],
   "source": [
    "data = data.dropna() # keep only complete data\n",
    "data = data.drop(['PHQ9_VALUE','PMAD_risk'], axis=1)\n",
    "print(\"N:\",data.shape)"
   ]
  },
  {
   "cell_type": "code",
   "execution_count": 6,
   "id": "9609f4a5-f4d3-4f84-8351-302681ba0117",
   "metadata": {},
   "outputs": [],
   "source": [
    "# get dummy variables\n",
    "data = pd.get_dummies(data)"
   ]
  },
  {
   "cell_type": "code",
   "execution_count": 9,
   "id": "3fb281fa-05b6-47a8-a29f-0a3df5af776c",
   "metadata": {},
   "outputs": [],
   "source": [
    "# split into X and y\n",
    "X = data.drop([outcome], axis=1)\n",
    "Y = data[[outcome]]\n",
    "\n",
    "race = data[['MOM_RACE_Asian or Native Hawaiian or Other Pacific Islander',\n",
    "             'MOM_RACE_Black or African American',\n",
    "             'MOM_RACE_Multiracial',\n",
    "             'MOM_RACE_Other',\n",
    "             'MOM_RACE_Unknown',\n",
    "             'MOM_RACE_White',\n",
    "             'MOM_RACE_Hispanic White']]\n",
    "strat_df = pd.concat([Y,race],axis=1)\n",
    "\n",
    "# Split the data into training and test sets\n",
    "X_train, X_test, y_train, y_test = train_test_split(X, Y, train_size=0.90, test_size=0.10, shuffle=True, stratify=strat_df, random_state=2024)"
   ]
  },
  {
   "cell_type": "code",
   "execution_count": 10,
   "id": "f8f44ed1-35e8-4372-85f4-022e1a6bba5e",
   "metadata": {},
   "outputs": [],
   "source": [
    "# Split the data into training and validation sets\n",
    "race = X_train[['MOM_RACE_Asian or Native Hawaiian or Other Pacific Islander',\n",
    "                'MOM_RACE_Black or African American',\n",
    "                'MOM_RACE_Multiracial',\n",
    "                'MOM_RACE_Other',\n",
    "                'MOM_RACE_Unknown',\n",
    "                'MOM_RACE_White',\n",
    "                'MOM_RACE_Hispanic White']]\n",
    "strat_df = pd.concat([y_train,race],axis=1)\n",
    "X_train, X_val, y_train, y_val = train_test_split(X_train, y_train, train_size=0.85, test_size=0.15, shuffle=True, stratify=strat_df, random_state=0)"
   ]
  },
  {
   "cell_type": "code",
   "execution_count": 12,
   "id": "a2f86eef-d1f1-424c-81c8-8ca82c303bab",
   "metadata": {},
   "outputs": [
    {
     "name": "stdout",
     "output_type": "stream",
     "text": [
      "       MOM_AGE  FINANCIAL_CLASS  LBW  PTB  DELIVERY_METHOD  NICU_ADMIT  \\\n",
      "5471      33.0              0.0  0.0  0.0              0.0         0.0   \n",
      "587       33.0              0.0  0.0  0.0              0.0         0.0   \n",
      "9875      27.0              0.0  0.0  0.0              0.0         0.0   \n",
      "14360     37.0              0.0  0.0  0.0              1.0         0.0   \n",
      "13343     29.0              0.0  0.0  0.0              0.0         0.0   \n",
      "\n",
      "       MFCU_ADMIT  PREE  GDM  GHTN  ...  ETHNIC_GROUP_Non-Hispanic  \\\n",
      "5471          0.0   0.0  0.0   0.0  ...                          1   \n",
      "587           0.0   0.0  0.0   0.0  ...                          1   \n",
      "9875          0.0   0.0  0.0   0.0  ...                          1   \n",
      "14360         0.0   0.0  0.0   0.0  ...                          1   \n",
      "13343         0.0   0.0  0.0   0.0  ...                          1   \n",
      "\n",
      "       ETHNIC_GROUP_Unknown  MARITAL_STATUS_Divorced  \\\n",
      "5471                      0                        0   \n",
      "587                       0                        0   \n",
      "9875                      0                        0   \n",
      "14360                     0                        0   \n",
      "13343                     0                        0   \n",
      "\n",
      "       MARITAL_STATUS_Domestic Partner  MARITAL_STATUS_Legally Separated  \\\n",
      "5471                                 0                                 0   \n",
      "587                                  0                                 0   \n",
      "9875                                 0                                 0   \n",
      "14360                                0                                 0   \n",
      "13343                                0                                 0   \n",
      "\n",
      "       MARITAL_STATUS_Married  MARITAL_STATUS_Significant Other  \\\n",
      "5471                        1                                 0   \n",
      "587                         1                                 0   \n",
      "9875                        1                                 0   \n",
      "14360                       1                                 0   \n",
      "13343                       1                                 0   \n",
      "\n",
      "       MARITAL_STATUS_Single  MARITAL_STATUS_Unknown  MARITAL_STATUS_Widowed  \n",
      "5471                       0                       0                       0  \n",
      "587                        0                       0                       0  \n",
      "9875                       0                       0                       0  \n",
      "14360                      0                       0                       0  \n",
      "13343                      0                       0                       0  \n",
      "\n",
      "[5 rows x 38 columns]\n"
     ]
    }
   ],
   "source": [
    "print(X_train.head())"
   ]
  },
  {
   "cell_type": "code",
   "execution_count": 19,
   "id": "83b3324e-7256-41f2-b5f6-1834651b3134",
   "metadata": {},
   "outputs": [
    {
     "data": {
      "text/plain": [
       "PHQ9_risk2\n",
       "0.0           383\n",
       "1.0           383\n",
       "dtype: int64"
      ]
     },
     "execution_count": 19,
     "metadata": {},
     "output_type": "execute_result"
    }
   ],
   "source": [
    "rus = RandomUnderSampler(sampling_strategy = \"auto\", random_state=0)\n",
    "X_train_rus, y_train_rus = rus.fit_resample(X_train, y_train)\n",
    "y_train_rus.value_counts()"
   ]
  },
  {
   "cell_type": "code",
   "execution_count": 25,
   "id": "1a7249df-2ceb-406f-8649-e36e01100f40",
   "metadata": {},
   "outputs": [
    {
     "name": "stdout",
     "output_type": "stream",
     "text": [
      "(8703, 38)\n",
      "(766, 38)\n",
      "(1536, 38)\n",
      "(1138, 38)\n"
     ]
    }
   ],
   "source": [
    "print(X_train.shape)\n",
    "print(X_train_rus.shape)\n",
    "print(X_val.shape)\n",
    "print(X_test.shape)"
   ]
  },
  {
   "cell_type": "code",
   "execution_count": 26,
   "id": "e42a5464-e6d3-4233-99cf-1cd40c5c4850",
   "metadata": {},
   "outputs": [
    {
     "name": "stdout",
     "output_type": "stream",
     "text": [
      "Index(['MOM_AGE', 'FINANCIAL_CLASS', 'LBW', 'PTB', 'DELIVERY_METHOD',\n",
      "       'NICU_ADMIT', 'MFCU_ADMIT', 'PREE', 'GDM', 'GHTN', 'MOM_BMI', 'MOM_LOS',\n",
      "       'CHILD_LOS', 'HIST_ANXIETY', 'HIST_DEPRESS', 'HIST_BIPOLAR',\n",
      "       'HIST_PMAD', 'MENTAL_HEALTH_DX_CUTOFF', 'MED_PSYCH', 'MED_CARDIO',\n",
      "       'MOM_RACE_Asian or Native Hawaiian or Other Pacific Islander',\n",
      "       'MOM_RACE_Black or African American', 'MOM_RACE_Hispanic White',\n",
      "       'MOM_RACE_Multiracial', 'MOM_RACE_Other', 'MOM_RACE_Unknown',\n",
      "       'MOM_RACE_White', 'ETHNIC_GROUP_Hispanic', 'ETHNIC_GROUP_Non-Hispanic',\n",
      "       'ETHNIC_GROUP_Unknown', 'MARITAL_STATUS_Divorced',\n",
      "       'MARITAL_STATUS_Domestic Partner', 'MARITAL_STATUS_Legally Separated',\n",
      "       'MARITAL_STATUS_Married', 'MARITAL_STATUS_Significant Other',\n",
      "       'MARITAL_STATUS_Single', 'MARITAL_STATUS_Unknown',\n",
      "       'MARITAL_STATUS_Widowed'],\n",
      "      dtype='object')\n"
     ]
    }
   ],
   "source": [
    "print(X_train.columns)"
   ]
  },
  {
   "cell_type": "code",
   "execution_count": 28,
   "id": "494009de-10fb-4b30-8166-c74edd5e6716",
   "metadata": {
    "scrolled": true
   },
   "outputs": [
    {
     "name": "stdout",
     "output_type": "stream",
     "text": [
      "       PHQ9_risk2\n",
      "5471          0.0\n",
      "587           0.0\n",
      "9875          0.0\n",
      "14360         0.0\n",
      "13343         0.0\n"
     ]
    },
    {
     "ename": "ValueError",
     "evalue": "The truth value of a DataFrame is ambiguous. Use a.empty, a.bool(), a.item(), a.any() or a.all().",
     "output_type": "error",
     "traceback": [
      "\u001b[0;31m---------------------------------------------------------------------------\u001b[0m",
      "\u001b[0;31mValueError\u001b[0m                                Traceback (most recent call last)",
      "\u001b[0;32m/var/folders/t5/jcwsrkr931z98nq_6hvc8st00000gv/T/ipykernel_32886/3400900587.py\u001b[0m in \u001b[0;36m?\u001b[0;34m()\u001b[0m\n\u001b[1;32m      1\u001b[0m \u001b[0mprint\u001b[0m\u001b[0;34m(\u001b[0m\u001b[0my_train\u001b[0m\u001b[0;34m.\u001b[0m\u001b[0mhead\u001b[0m\u001b[0;34m(\u001b[0m\u001b[0;34m)\u001b[0m\u001b[0;34m)\u001b[0m\u001b[0;34m\u001b[0m\u001b[0;34m\u001b[0m\u001b[0m\n\u001b[0;32m----> 2\u001b[0;31m \u001b[0my\u001b[0m \u001b[0;34m=\u001b[0m \u001b[0mpd\u001b[0m\u001b[0;34m.\u001b[0m\u001b[0mSeries\u001b[0m\u001b[0;34m(\u001b[0m\u001b[0my_train\u001b[0m\u001b[0;34m)\u001b[0m\u001b[0;34m\u001b[0m\u001b[0;34m\u001b[0m\u001b[0m\n\u001b[0m\u001b[1;32m      3\u001b[0m \u001b[0mprint\u001b[0m\u001b[0;34m(\u001b[0m\u001b[0my\u001b[0m\u001b[0;34m.\u001b[0m\u001b[0mhead\u001b[0m\u001b[0;34m(\u001b[0m\u001b[0;34m)\u001b[0m\u001b[0;34m)\u001b[0m\u001b[0;34m\u001b[0m\u001b[0;34m\u001b[0m\u001b[0m\n",
      "\u001b[0;32m~/opt/anaconda3/envs/tpot2-myfork/lib/python3.10/site-packages/pandas/core/series.py\u001b[0m in \u001b[0;36m?\u001b[0;34m(self, data, index, dtype, name, copy, fastpath)\u001b[0m\n\u001b[1;32m    382\u001b[0m         \u001b[0;32melse\u001b[0m\u001b[0;34m:\u001b[0m\u001b[0;34m\u001b[0m\u001b[0;34m\u001b[0m\u001b[0m\n\u001b[1;32m    383\u001b[0m \u001b[0;34m\u001b[0m\u001b[0m\n\u001b[1;32m    384\u001b[0m             \u001b[0mname\u001b[0m \u001b[0;34m=\u001b[0m \u001b[0mibase\u001b[0m\u001b[0;34m.\u001b[0m\u001b[0mmaybe_extract_name\u001b[0m\u001b[0;34m(\u001b[0m\u001b[0mname\u001b[0m\u001b[0;34m,\u001b[0m \u001b[0mdata\u001b[0m\u001b[0;34m,\u001b[0m \u001b[0mtype\u001b[0m\u001b[0;34m(\u001b[0m\u001b[0mself\u001b[0m\u001b[0;34m)\u001b[0m\u001b[0;34m)\u001b[0m\u001b[0;34m\u001b[0m\u001b[0;34m\u001b[0m\u001b[0m\n\u001b[1;32m    385\u001b[0m \u001b[0;34m\u001b[0m\u001b[0m\n\u001b[0;32m--> 386\u001b[0;31m             \u001b[0;32mif\u001b[0m \u001b[0mis_empty_data\u001b[0m\u001b[0;34m(\u001b[0m\u001b[0mdata\u001b[0m\u001b[0;34m)\u001b[0m \u001b[0;32mand\u001b[0m \u001b[0mdtype\u001b[0m \u001b[0;32mis\u001b[0m \u001b[0;32mNone\u001b[0m\u001b[0;34m:\u001b[0m\u001b[0;34m\u001b[0m\u001b[0;34m\u001b[0m\u001b[0m\n\u001b[0m\u001b[1;32m    387\u001b[0m                 \u001b[0;31m# gh-17261\u001b[0m\u001b[0;34m\u001b[0m\u001b[0;34m\u001b[0m\u001b[0m\n\u001b[1;32m    388\u001b[0m                 warnings.warn(\n\u001b[1;32m    389\u001b[0m                     \u001b[0;34m\"The default dtype for empty Series will be 'object' instead \"\u001b[0m\u001b[0;34m\u001b[0m\u001b[0;34m\u001b[0m\u001b[0m\n",
      "\u001b[0;32m~/opt/anaconda3/envs/tpot2-myfork/lib/python3.10/site-packages/pandas/core/construction.py\u001b[0m in \u001b[0;36m?\u001b[0;34m(data)\u001b[0m\n\u001b[1;32m    873\u001b[0m     \u001b[0mbool\u001b[0m\u001b[0;34m\u001b[0m\u001b[0;34m\u001b[0m\u001b[0m\n\u001b[1;32m    874\u001b[0m     \"\"\"\n\u001b[1;32m    875\u001b[0m     \u001b[0mis_none\u001b[0m \u001b[0;34m=\u001b[0m \u001b[0mdata\u001b[0m \u001b[0;32mis\u001b[0m \u001b[0;32mNone\u001b[0m\u001b[0;34m\u001b[0m\u001b[0;34m\u001b[0m\u001b[0m\n\u001b[1;32m    876\u001b[0m     \u001b[0mis_list_like_without_dtype\u001b[0m \u001b[0;34m=\u001b[0m \u001b[0mis_list_like\u001b[0m\u001b[0;34m(\u001b[0m\u001b[0mdata\u001b[0m\u001b[0;34m)\u001b[0m \u001b[0;32mand\u001b[0m \u001b[0;32mnot\u001b[0m \u001b[0mhasattr\u001b[0m\u001b[0;34m(\u001b[0m\u001b[0mdata\u001b[0m\u001b[0;34m,\u001b[0m \u001b[0;34m\"dtype\"\u001b[0m\u001b[0;34m)\u001b[0m\u001b[0;34m\u001b[0m\u001b[0;34m\u001b[0m\u001b[0m\n\u001b[0;32m--> 877\u001b[0;31m     \u001b[0mis_simple_empty\u001b[0m \u001b[0;34m=\u001b[0m \u001b[0mis_list_like_without_dtype\u001b[0m \u001b[0;32mand\u001b[0m \u001b[0;32mnot\u001b[0m \u001b[0mdata\u001b[0m\u001b[0;34m\u001b[0m\u001b[0;34m\u001b[0m\u001b[0m\n\u001b[0m\u001b[1;32m    878\u001b[0m     \u001b[0;32mreturn\u001b[0m \u001b[0mis_none\u001b[0m \u001b[0;32mor\u001b[0m \u001b[0mis_simple_empty\u001b[0m\u001b[0;34m\u001b[0m\u001b[0;34m\u001b[0m\u001b[0m\n",
      "\u001b[0;32m~/opt/anaconda3/envs/tpot2-myfork/lib/python3.10/site-packages/pandas/core/generic.py\u001b[0m in \u001b[0;36m?\u001b[0;34m(self)\u001b[0m\n\u001b[1;32m   1525\u001b[0m     \u001b[0;34m@\u001b[0m\u001b[0mfinal\u001b[0m\u001b[0;34m\u001b[0m\u001b[0;34m\u001b[0m\u001b[0m\n\u001b[1;32m   1526\u001b[0m     \u001b[0;32mdef\u001b[0m \u001b[0m__nonzero__\u001b[0m\u001b[0;34m(\u001b[0m\u001b[0mself\u001b[0m\u001b[0;34m)\u001b[0m \u001b[0;34m->\u001b[0m \u001b[0mNoReturn\u001b[0m\u001b[0;34m:\u001b[0m\u001b[0;34m\u001b[0m\u001b[0;34m\u001b[0m\u001b[0m\n\u001b[0;32m-> 1527\u001b[0;31m         raise ValueError(\n\u001b[0m\u001b[1;32m   1528\u001b[0m             \u001b[0;34mf\"The truth value of a {type(self).__name__} is ambiguous. \"\u001b[0m\u001b[0;34m\u001b[0m\u001b[0;34m\u001b[0m\u001b[0m\n\u001b[1;32m   1529\u001b[0m             \u001b[0;34m\"Use a.empty, a.bool(), a.item(), a.any() or a.all().\"\u001b[0m\u001b[0;34m\u001b[0m\u001b[0;34m\u001b[0m\u001b[0m\n\u001b[1;32m   1530\u001b[0m         )\n",
      "\u001b[0;31mValueError\u001b[0m: The truth value of a DataFrame is ambiguous. Use a.empty, a.bool(), a.item(), a.any() or a.all()."
     ]
    }
   ],
   "source": [
    "print(y_train.head())\n",
    "y = pd.Series(y_train)\n",
    "print(y.head())"
   ]
  },
  {
   "cell_type": "code",
   "execution_count": null,
   "id": "fcc530be-c13c-48bb-99cd-27237cf6fd0c",
   "metadata": {},
   "outputs": [],
   "source": []
  }
 ],
 "metadata": {
  "kernelspec": {
   "display_name": "Python 3 (ipykernel)",
   "language": "python",
   "name": "python3"
  },
  "language_info": {
   "codemirror_mode": {
    "name": "ipython",
    "version": 3
   },
   "file_extension": ".py",
   "mimetype": "text/x-python",
   "name": "python",
   "nbconvert_exporter": "python",
   "pygments_lexer": "ipython3",
   "version": "3.10.14"
  }
 },
 "nbformat": 4,
 "nbformat_minor": 5
}
